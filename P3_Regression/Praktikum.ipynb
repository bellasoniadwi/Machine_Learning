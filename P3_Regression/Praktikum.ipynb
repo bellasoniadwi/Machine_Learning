{
  "cells": [
    {
      "cell_type": "markdown",
      "metadata": {
        "id": "m-OJnYhkbD_q"
      },
      "source": [
        "**Contoh Kode Program KNN tanpa library Scikit-Learn**"
      ]
    },
    {
      "cell_type": "code",
      "execution_count": 2,
      "metadata": {
        "id": "Lv3sY61ya_CG"
      },
      "outputs": [],
      "source": [
        "import numpy as np\n",
        "import matplotlib.pyplot as plt\n",
        "\n",
        "X_train = np.array([\n",
        "    [158,64],\n",
        "    [170,86],\n",
        "    [183,84],\n",
        "    [191,80],\n",
        "    [155,49],\n",
        "    [163,59],\n",
        "    [180,67],\n",
        "    [158,54],\n",
        "    [170,67]\n",
        "])\n",
        "\n",
        "y_train = ['male', 'male', 'male', 'male', 'female', 'female', 'female', 'female', 'female']\n",
        "\n",
        "X_test = np.array([[155,70]])"
      ]
    },
    {
      "cell_type": "code",
      "execution_count": 5,
      "metadata": {
        "colab": {
          "base_uri": "https://localhost:8080/"
        },
        "id": "009InJpIbN8Y",
        "outputId": "83e9a5c3-3c82-4f25-f0eb-99252fc8f4d3"
      },
      "outputs": [
        {
          "data": {
            "text/plain": [
              "array([ 6.70820393, 21.9317122 , 31.30495168, 37.36308338, 21.        ,\n",
              "       13.60147051, 25.17935662, 16.2788206 , 15.29705854])"
            ]
          },
          "execution_count": 5,
          "metadata": {},
          "output_type": "execute_result"
        }
      ],
      "source": [
        "# calculate euclidean distance\n",
        "dis = np.sqrt(np.sum((X_train-X_test)**2, axis=1))\n",
        "dis"
      ]
    },
    {
      "cell_type": "code",
      "execution_count": 6,
      "metadata": {
        "colab": {
          "base_uri": "https://localhost:8080/",
          "height": 72
        },
        "id": "4BVBAACTbcXU",
        "outputId": "345c2aa4-2eec-4937-9507-9ad4054ab22d"
      },
      "outputs": [
        {
          "name": "stdout",
          "output_type": "stream",
          "text": [
            "[0 5 8]\n",
            "['male' 'female' 'female']\n"
          ]
        },
        {
          "data": {
            "application/vnd.google.colaboratory.intrinsic+json": {
              "type": "string"
            },
            "text/plain": [
              "'female'"
            ]
          },
          "execution_count": 6,
          "metadata": {},
          "output_type": "execute_result"
        }
      ],
      "source": [
        "nn_sort = dis.argsort()[:3]\n",
        "print(nn_sort)\n",
        "\n",
        "nn_gender = np.take(y_train, nn_sort)\n",
        "print(nn_gender)\n",
        "\n",
        "from collections import Counter\n",
        "b = Counter(np.take(y_train, dis.argsort()[:3]))\n",
        "b.most_common(1)[0][0]"
      ]
    },
    {
      "cell_type": "markdown",
      "metadata": {
        "id": "SDHjYJYSb5LS"
      },
      "source": [
        "**Contoh Kode Program KNN menggunakan library Scikit-Learn**"
      ]
    },
    {
      "cell_type": "code",
      "execution_count": 9,
      "metadata": {
        "colab": {
          "base_uri": "https://localhost:8080/"
        },
        "id": "4isbXk6Gb-Ly",
        "outputId": "ecc3991c-4e36-47db-df6b-272cbc9f06c7"
      },
      "outputs": [
        {
          "name": "stdout",
          "output_type": "stream",
          "text": [
            "[[1]\n",
            " [1]\n",
            " [1]\n",
            " [1]\n",
            " [0]\n",
            " [0]\n",
            " [0]\n",
            " [0]\n",
            " [0]]\n",
            "['female']\n"
          ]
        }
      ],
      "source": [
        "from sklearn.preprocessing import LabelBinarizer\n",
        "from sklearn.neighbors import KNeighborsClassifier\n",
        "\n",
        "lb = LabelBinarizer()\n",
        "y_trainbin = lb.fit_transform(y_train)\n",
        "print(y_trainbin)\n",
        "\n",
        "k=3\n",
        "clf = KNeighborsClassifier(n_neighbors=k)\n",
        "clf.fit(X_train, y_trainbin.reshape(-1))\n",
        "pred_bin = clf.predict(np.array([X_test]).reshape(1,-1))[0]\n",
        "pred_label = lb.inverse_transform(pred_bin)\n",
        "print(pred_label)"
      ]
    },
    {
      "cell_type": "code",
      "execution_count": 10,
      "metadata": {
        "colab": {
          "base_uri": "https://localhost:8080/"
        },
        "id": "rVFjIjCoctdE",
        "outputId": "43773e4b-2207-4e4c-fc9f-69c1cca7e3d6"
      },
      "outputs": [
        {
          "name": "stdout",
          "output_type": "stream",
          "text": [
            "label biners:[1 1 0 0]\n",
            "['female' 'male' 'female' 'female']\n"
          ]
        }
      ],
      "source": [
        "from sklearn.preprocessing import LabelBinarizer\n",
        "from sklearn.neighbors import KNeighborsClassifier\n",
        "X_test = np.array([[168,65],\n",
        "                   [190,96],\n",
        "                   [160,52],\n",
        "                   [169,67]\n",
        "                   ])\n",
        "y_test = ['male', 'male', 'female', 'female']\n",
        "\n",
        "# lb = LabelBinarizer()\n",
        "y_testbin = lb.transform(y_test)\n",
        "print('label biners:%s' %y_testbin.T[0])\n",
        "\n",
        "k=3\n",
        "clf = KNeighborsClassifier(n_neighbors=k)\n",
        "clf.fit(X_train, y_trainbin.reshape(-1))\n",
        "pred_bin = clf.predict(X_test)\n",
        "pred_label = lb.inverse_transform(pred_bin)\n",
        "print(pred_label)"
      ]
    },
    {
      "cell_type": "code",
      "execution_count": 11,
      "metadata": {
        "colab": {
          "base_uri": "https://localhost:8080/"
        },
        "id": "q4yjROwedqpc",
        "outputId": "fc64270c-feb5-4510-c2b5-1df65005d908"
      },
      "outputs": [
        {
          "name": "stdout",
          "output_type": "stream",
          "text": [
            "akurasi: 0.75\n"
          ]
        }
      ],
      "source": [
        "from sklearn.metrics import accuracy_score\n",
        "print('akurasi: %s' % accuracy_score(y_testbin, pred_bin))"
      ]
    },
    {
      "cell_type": "code",
      "execution_count": 12,
      "metadata": {
        "colab": {
          "base_uri": "https://localhost:8080/"
        },
        "id": "MdTgSPe0d2CG",
        "outputId": "2cf30f40-1b44-4d11-ec31-997ba057691d"
      },
      "outputs": [
        {
          "name": "stdout",
          "output_type": "stream",
          "text": [
            "presisi: 1.0\n"
          ]
        }
      ],
      "source": [
        "from sklearn.metrics import precision_score\n",
        "print('presisi: %s' % precision_score(y_testbin, pred_bin))"
      ]
    },
    {
      "cell_type": "code",
      "execution_count": 13,
      "metadata": {
        "colab": {
          "base_uri": "https://localhost:8080/"
        },
        "id": "lN2122LFeEMn",
        "outputId": "a287e37b-8935-4a8c-a4f1-074ee80eea7b"
      },
      "outputs": [
        {
          "name": "stdout",
          "output_type": "stream",
          "text": [
            "recall: 0.5\n"
          ]
        }
      ],
      "source": [
        "from sklearn.metrics import recall_score\n",
        "print('recall: %s' % recall_score(y_testbin, pred_bin))"
      ]
    },
    {
      "cell_type": "markdown",
      "metadata": {
        "id": "v-2ONca4eRB-"
      },
      "source": [
        "**Contoh implementasi Regresi menggunakan algoritma KNN**"
      ]
    },
    {
      "cell_type": "code",
      "execution_count": 16,
      "metadata": {
        "id": "FWf90ZWAePU1"
      },
      "outputs": [],
      "source": [
        "import numpy as np\n",
        "import matplotlib.pyplot as plt\n",
        "\n",
        "X_train = np.array([\n",
        "    [158,1],\n",
        "    [170,1],\n",
        "    [183,1],\n",
        "    [191,1],\n",
        "    [155,0],\n",
        "    [163,0],\n",
        "    [180,0],\n",
        "    [158,0],\n",
        "    [178,0]\n",
        "])\n",
        "\n",
        "y_train = [64,66,84,80,49,59,67,54,77]\n",
        "\n",
        "X_test = np.array([[168,1],\n",
        "                   [170,1],\n",
        "                   [160,0],\n",
        "                   [169,0]\n",
        "                   ])\n",
        "\n",
        "y_test = [65,61,52,67]"
      ]
    },
    {
      "cell_type": "code",
      "execution_count": 18,
      "metadata": {
        "colab": {
          "base_uri": "https://localhost:8080/"
        },
        "id": "ouEbhXzPe0u1",
        "outputId": "bc8079a8-da1d-481d-a66f-2dfaccfb7218"
      },
      "outputs": [
        {
          "name": "stdout",
          "output_type": "stream",
          "text": [
            "prediksi : [63.         67.33333333 59.         67.33333333]\n",
            "MAE : 3.9166666666666643\n",
            "SE : 23.305555555555543\n"
          ]
        }
      ],
      "source": [
        "from sklearn.preprocessing import LabelBinarizer\n",
        "from sklearn.neighbors import KNeighborsRegressor\n",
        "from sklearn.metrics import mean_absolute_error, mean_squared_error\n",
        "\n",
        "k=3\n",
        "clf = KNeighborsRegressor(n_neighbors=k)\n",
        "clf.fit(X_train, y_train)\n",
        "predictions = clf.predict(X_test)\n",
        "print('prediksi : %s' % predictions)\n",
        "print('MAE : %s' % mean_absolute_error(y_test, predictions))\n",
        "print('SE : %s' % mean_squared_error(y_test, predictions))"
      ]
    }
  ],
  "metadata": {
    "colab": {
      "provenance": []
    },
    "kernelspec": {
      "display_name": "base",
      "language": "python",
      "name": "python3"
    },
    "language_info": {
      "name": "python",
      "version": "3.9.12 (main, Apr  4 2022, 05:22:27) [MSC v.1916 64 bit (AMD64)]"
    },
    "vscode": {
      "interpreter": {
        "hash": "17fa50539f872ae2eaa091f2f222f2ef4031750e6babbf0aa4f22e128b0958ac"
      }
    }
  },
  "nbformat": 4,
  "nbformat_minor": 0
}
