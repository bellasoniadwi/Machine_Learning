{
 "cells": [
  {
   "cell_type": "markdown",
   "metadata": {},
   "source": []
  },
  {
   "cell_type": "code",
   "execution_count": 1,
   "metadata": {},
   "outputs": [],
   "source": [
    "#Tanpa Menggunakan library scikit-learn\n",
    "import numpy as np\n",
    "import matplotlib.pyplot as plt\n",
    "\n",
    "X_train = np.array([\n",
    "    [26 ,8],\n",
    "    [26, 11],\n",
    "    [29, 8],\n",
    "    [34, 10],\n",
    "    [36, 11],\n",
    "    [33, 8],\n",
    "    [30, 9],\n",
    "    [27, 10],\n",
    "    [27, 11],\n",
    "    [26, 11],\n",
    "    [31, 13],\n",
    "    [34, 8],\n",
    "])\n",
    "\n",
    "y_train = ['Go out', 'Go out', 'Go out', 'Stay at home','Stay at home', 'Go out', 'Go out', 'Go out', 'Go out', 'Go out', 'Stay at home','Go out']\n",
    "\n",
    "X_test = np.array([[30,10]])"
   ]
  },
  {
   "cell_type": "code",
   "execution_count": 4,
   "metadata": {},
   "outputs": [
    {
     "data": {
      "text/plain": [
       "array([4.47213595, 4.12310563, 2.23606798, 4.        , 6.08276253,\n",
       "       3.60555128, 1.        , 3.        , 3.16227766, 4.12310563,\n",
       "       3.16227766, 4.47213595])"
      ]
     },
     "execution_count": 4,
     "metadata": {},
     "output_type": "execute_result"
    }
   ],
   "source": [
    "# calculate euclidean distance\n",
    "dis = np.sqrt(np.sum((X_train-X_test)**2, axis=1))\n",
    "dis"
   ]
  },
  {
   "cell_type": "code",
   "execution_count": 5,
   "metadata": {},
   "outputs": [
    {
     "name": "stdout",
     "output_type": "stream",
     "text": [
      "[4.47213595 4.12310563 2.23606798 4.         6.08276253 3.60555128\n",
      " 1.         3.         3.16227766 4.12310563 3.16227766 4.47213595]\n",
      "[6 2 7]\n",
      "['Go out' 'Go out' 'Go out']\n"
     ]
    },
    {
     "data": {
      "text/plain": [
       "'Go out'"
      ]
     },
     "execution_count": 5,
     "metadata": {},
     "output_type": "execute_result"
    }
   ],
   "source": [
    "dis = np.sqrt(np.sum((X_train-X_test)**2, axis=1))\n",
    "print(dis)\n",
    "\n",
    "nn_sort = dis.argsort()[:3]\n",
    "print(nn_sort)\n",
    "nn_gender = np.take(y_train,nn_sort)\n",
    "print(nn_gender)\n",
    "\n",
    "\n",
    "from collections import Counter\n",
    "b = Counter(np.take(y_train,dis.argsort()[:3]))\n",
    "b.most_common(1)[0][0]"
   ]
  },
  {
   "cell_type": "code",
   "execution_count": 6,
   "metadata": {},
   "outputs": [
    {
     "name": "stdout",
     "output_type": "stream",
     "text": [
      "[[0]\n",
      " [0]\n",
      " [0]\n",
      " [1]\n",
      " [1]\n",
      " [0]\n",
      " [0]\n",
      " [0]\n",
      " [0]\n",
      " [0]\n",
      " [1]\n",
      " [0]]\n",
      "['Go out']\n"
     ]
    }
   ],
   "source": [
    "# Menggunakan library scikit-learn\n",
    "from sklearn.preprocessing import LabelBinarizer\n",
    "from sklearn.neighbors import KNeighborsClassifier\n",
    "\n",
    "lb = LabelBinarizer()\n",
    "y_trainbin = lb.fit_transform(y_train)\n",
    "print(y_trainbin)\n",
    "\n",
    "k = 3\n",
    "clf = KNeighborsClassifier(n_neighbors=k)\n",
    "clf.fit(X_train, y_trainbin.reshape(-1))\n",
    "pred_bin = clf.predict(np.array([X_test]).reshape(1, -1))[0]\n",
    "pred_label = lb.inverse_transform(pred_bin)\n",
    "print(pred_label)"
   ]
  },
  {
   "cell_type": "code",
   "execution_count": 7,
   "metadata": {},
   "outputs": [
    {
     "name": "stdout",
     "output_type": "stream",
     "text": [
      "\n",
      "Label Biner : [1 0 0 1 0]\n",
      "['Go out' 'Go out' 'Go out' 'Stay at home' 'Go out']\n"
     ]
    }
   ],
   "source": [
    "from sklearn.preprocessing import LabelBinarizer\n",
    "from sklearn.neighbors import KNeighborsClassifier\n",
    "\n",
    "X_test = np.array([\n",
    "    [30, 10],\n",
    "    [28, 13],\n",
    "    [29, 9],\n",
    "    [31, 12],\n",
    "    [27, 8]\n",
    "])\n",
    "\n",
    "y_test = ['Stay at home', 'Go out', 'Go out', 'Stay at home', 'Go out']\n",
    "\n",
    "# lb=LabelBinarizer()\n",
    "y_testbin = lb.transform(y_test)\n",
    "print('\\nLabel Biner : %s' % y_testbin.T[0])\n",
    "\n",
    "k = 3\n",
    "clf = KNeighborsClassifier(n_neighbors=k)\n",
    "clf.fit(X_train, y_trainbin.reshape(-1))\n",
    "pred_bin = clf.predict(X_test)\n",
    "pred_label = lb.inverse_transform(pred_bin)\n",
    "print(pred_label)"
   ]
  },
  {
   "cell_type": "code",
   "execution_count": 9,
   "metadata": {},
   "outputs": [
    {
     "name": "stdout",
     "output_type": "stream",
     "text": [
      "akurasi: 0.8\n"
     ]
    }
   ],
   "source": [
    "from sklearn.metrics import accuracy_score\n",
    "print('akurasi: %s' % accuracy_score(y_testbin,pred_bin))"
   ]
  },
  {
   "cell_type": "code",
   "execution_count": 10,
   "metadata": {},
   "outputs": [
    {
     "name": "stdout",
     "output_type": "stream",
     "text": [
      "presisi: 1.0\n"
     ]
    }
   ],
   "source": [
    "from sklearn.metrics import precision_score\n",
    "print('presisi: %s' % precision_score(y_testbin,pred_bin))"
   ]
  },
  {
   "cell_type": "code",
   "execution_count": 11,
   "metadata": {},
   "outputs": [
    {
     "name": "stdout",
     "output_type": "stream",
     "text": [
      "recall: 0.5\n"
     ]
    }
   ],
   "source": [
    "from sklearn.metrics import recall_score\n",
    "print('recall: %s' % recall_score(y_testbin,pred_bin))"
   ]
  },
  {
   "cell_type": "code",
   "execution_count": 16,
   "metadata": {},
   "outputs": [],
   "source": [
    "# Evaluasi Regresi\n",
    "import numpy as np\n",
    "import matplotlib.pyplot as plt\n",
    "\n",
    "X_train = np.array([\n",
    "                    [26,1],\n",
    "                    [26,1],\n",
    "                    [29,1],\n",
    "                    [34,0],\n",
    "                    [36,0],\n",
    "                    [33,1],\n",
    "                    [30,1],\n",
    "                    [27,1],\n",
    "                    [27,1],\n",
    "                    [26,1],\n",
    "                    [31,0],\n",
    "                    [34,1]\n",
    "                ])\n",
    "\n",
    "y_train=[8,11,8,10,11,8,9,10,11,11,13,8]\n",
    "\n",
    "X_test = np.array([[30,0],\n",
    "                   [28,1],\n",
    "                   [29,1],\n",
    "                   [31,0],\n",
    "                   [27,1]\n",
    "])\n",
    "\n",
    "y_test=[10,13,9,12,8]"
   ]
  },
  {
   "cell_type": "code",
   "execution_count": 17,
   "metadata": {},
   "outputs": [
    {
     "name": "stdout",
     "output_type": "stream",
     "text": [
      "prediksi : [10.          9.66666667  9.         10.         10.66666667]\n"
     ]
    }
   ],
   "source": [
    "from sklearn.neighbors import KNeighborsRegressor\n",
    "\n",
    "k=3\n",
    "clf = KNeighborsRegressor(n_neighbors=k)\n",
    "clf.fit(X_train,y_train)\n",
    "predictions=clf.predict(X_test)\n",
    "print('prediksi : %s' %predictions)"
   ]
  },
  {
   "cell_type": "code",
   "execution_count": 18,
   "metadata": {},
   "outputs": [
    {
     "name": "stdout",
     "output_type": "stream",
     "text": [
      "prediksi : [10.          9.66666667  9.         10.         10.66666667]\n",
      "MAE : 1.6\n",
      "MSE : 4.444444444444445\n"
     ]
    }
   ],
   "source": [
    "from sklearn.preprocessing import LabelBinarizer\n",
    "from sklearn.neighbors import KNeighborsRegressor\n",
    "from sklearn.metrics import mean_absolute_error, mean_squared_error\n",
    "k=3\n",
    "clf = KNeighborsRegressor(n_neighbors=k)\n",
    "clf.fit(X_train,y_train)\n",
    "predictions=clf.predict(X_test)\n",
    "print('prediksi : %s' %predictions)\n",
    "print('MAE : %s' %mean_absolute_error(y_test,predictions))\n",
    "print('MSE : %s' %mean_squared_error(y_test,predictions))"
   ]
  }
 ],
 "metadata": {
  "kernelspec": {
   "display_name": "base",
   "language": "python",
   "name": "python3"
  },
  "language_info": {
   "codemirror_mode": {
    "name": "ipython",
    "version": 3
   },
   "file_extension": ".py",
   "mimetype": "text/x-python",
   "name": "python",
   "nbconvert_exporter": "python",
   "pygments_lexer": "ipython3",
   "version": "3.9.12 (main, Apr  4 2022, 05:22:27) [MSC v.1916 64 bit (AMD64)]"
  },
  "orig_nbformat": 4,
  "vscode": {
   "interpreter": {
    "hash": "17fa50539f872ae2eaa091f2f222f2ef4031750e6babbf0aa4f22e128b0958ac"
   }
  }
 },
 "nbformat": 4,
 "nbformat_minor": 2
}
